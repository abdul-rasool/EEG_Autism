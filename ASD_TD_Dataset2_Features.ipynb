{
  "nbformat": 4,
  "nbformat_minor": 0,
  "metadata": {
    "colab": {
      "provenance": []
    },
    "kernelspec": {
      "name": "python3",
      "display_name": "Python 3"
    },
    "language_info": {
      "name": "python"
    }
  },
  "cells": [
    {
      "cell_type": "code",
      "source": [
        "import scipy.io\n",
        "import matplotlib.pyplot as plt\n",
        "import os\n",
        "import glob\n",
        "from scipy.stats import entropy\n",
        "import sys\n",
        "import matplotlib.pyplot as plt\n",
        "import pywt\n",
        "import numpy as np\n",
        "import seaborn as sns\n",
        "import numpy as np\n",
        "import matplotlib.pyplot as plt\n",
        "from matplotlib.ticker import MaxNLocator\n",
        "import pandas as pd\n",
        "import numpy as np\n",
        "from scipy.signal import welch\n",
        "from scipy.interpolate import interp1d"
      ],
      "metadata": {
        "id": "-wAEdPWxR31W"
      },
      "execution_count": null,
      "outputs": []
    },
    {
      "cell_type": "code",
      "source": [
        "\"\"\"Mounting Google Drive\"\"\"\n",
        "from google.colab import drive\n",
        "drive.mount('/content/drive', force_remount = True)"
      ],
      "metadata": {
        "id": "KoMj2GcoRpKF",
        "colab": {
          "base_uri": "https://localhost:8080/"
        },
        "outputId": "15364680-0d08-435d-b5be-4090e49e8f0f"
      },
      "execution_count": null,
      "outputs": [
        {
          "output_type": "stream",
          "name": "stdout",
          "text": [
            "Mounted at /content/drive\n"
          ]
        }
      ]
    },
    {
      "cell_type": "code",
      "source": [
        "import os\n",
        "import warnings\n",
        "warnings.filterwarnings(\"ignore\")"
      ],
      "metadata": {
        "id": "tiWvbNkKR1c9"
      },
      "execution_count": null,
      "outputs": []
    },
    {
      "cell_type": "code",
      "source": [
        "pip install rarfile"
      ],
      "metadata": {
        "colab": {
          "base_uri": "https://localhost:8080/"
        },
        "id": "1janCQJ-OUum",
        "outputId": "56e823d6-8dd1-4440-a298-c29c36707883"
      },
      "execution_count": null,
      "outputs": [
        {
          "output_type": "stream",
          "name": "stdout",
          "text": [
            "Collecting rarfile\n",
            "  Downloading rarfile-4.2-py3-none-any.whl (29 kB)\n",
            "Installing collected packages: rarfile\n",
            "Successfully installed rarfile-4.2\n"
          ]
        }
      ]
    },
    {
      "cell_type": "code",
      "source": [
        "import rarfile\n",
        "import os\n",
        "\n",
        "# Path to EEG .rar file\n",
        "rar_file_path = '/content/drive/MyDrive/EEG Data 2 - Bm Files/ASD BM - 15 files.rar'\n",
        "extract_path = '/tmp/EEG/ASD/'\n",
        "\n",
        "# Extract all files from the .rar archive\n",
        "with rarfile.RarFile(rar_file_path, 'r') as rar_ref:\n",
        "    rar_ref.extractall(os.path.join(extract_path))\n",
        "    print(f\"EEG Data Successfully extracted to {extract_path}\")\n",
        "\n",
        "# Path to EEG .rar file\n",
        "rar_file_path = '/content/drive/MyDrive/EEG Data 2 - Bm Files/TD BM - 15 files.rar'\n",
        "extract_path = '/tmp/EEG/TD/'\n",
        "\n",
        "# Extract all files from the .rar archive\n",
        "with rarfile.RarFile(rar_file_path, 'r') as rar_ref:\n",
        "    rar_ref.extractall(os.path.join(extract_path))\n",
        "    print(f\"EEG Data Successfully extracted to {extract_path}\")"
      ],
      "metadata": {
        "colab": {
          "base_uri": "https://localhost:8080/"
        },
        "id": "baP1z4jVNoDl",
        "outputId": "6f3afabd-d4d2-4351-e0a3-8f6a934dc6a2"
      },
      "execution_count": null,
      "outputs": [
        {
          "output_type": "stream",
          "name": "stdout",
          "text": [
            "EEG Data Successfully extracted to /tmp/EEG/ASD/\n",
            "EEG Data Successfully extracted to /tmp/EEG/TD/\n"
          ]
        }
      ]
    },
    {
      "cell_type": "code",
      "source": [
        "def find_mat_files(root_dir):\n",
        "    mat_files = []\n",
        "    for dirpath, _, filenames in os.walk(root_dir):\n",
        "        for filename in filenames:\n",
        "            if filename.endswith('.mat'):\n",
        "                mat_files.append(os.path.join(dirpath, filename))\n",
        "    return mat_files\n",
        "\n",
        "# file_path = r'/tmp/EEG/ASD/'\n",
        "file_path = r'/tmp/EEG/TD/'\n",
        "\n",
        "mat_files = find_mat_files(file_path)"
      ],
      "metadata": {
        "id": "TX3cT9aGR_5m"
      },
      "execution_count": null,
      "outputs": []
    },
    {
      "cell_type": "code",
      "source": [
        "# Function to perform window slicing on the EEG signal\n",
        "def window_slice(signal, window_size, overlap):\n",
        "    \"\"\"\n",
        "    Perform window slicing on the signal.\n",
        "\n",
        "    Parameters:\n",
        "    - signal: The input signal (1D array).\n",
        "    - window_size: The size of each window.\n",
        "    - overlap: The overlap between consecutive windows.\n",
        "\n",
        "    Returns:\n",
        "    - windows: 2D array containing sliced windows.\n",
        "    \"\"\"\n",
        "    windows = []\n",
        "    for i in range(0, len(signal) - window_size + 1, window_size - overlap):\n",
        "        window = signal[i:i + window_size]\n",
        "        windows.append(window)\n",
        "    return np.array(windows)"
      ],
      "metadata": {
        "id": "EGnkZMLvTjnx"
      },
      "execution_count": null,
      "outputs": []
    },
    {
      "cell_type": "code",
      "source": [
        "# Function to extract time-domain features from each window\n",
        "def extract_time_domain_features(window):\n",
        "    features = [\n",
        "        np.mean(window),\n",
        "        np.std(window),\n",
        "        np.median(window),\n",
        "        np.max(window) - np.min(window),\n",
        "        np.mean((window - np.mean(window)) ** 3) / np.std(window) ** 3,  # Skewness\n",
        "        np.mean((window - np.mean(window)) ** 4) / np.var(window) ** 2 - 3,  # Kurtosis\n",
        "    ]\n",
        "    return features"
      ],
      "metadata": {
        "id": "JjIXLyVOWbjE"
      },
      "execution_count": null,
      "outputs": []
    },
    {
      "cell_type": "code",
      "source": [
        "# Function to extract frequency band power from each window\n",
        "def extract_frequency_bands(window, sampling_rate):\n",
        "    f, psd = welch(window, fs=sampling_rate, nperseg=len(window))\n",
        "\n",
        "    # Define frequency bands (adjust as needed)\n",
        "    delta_band = (0.5, 4)\n",
        "    theta_band = (4, 8)\n",
        "    alpha_band = (8, 13)\n",
        "    beta_band = (13, 30)\n",
        "    gamma_band = (30, 40)\n",
        "\n",
        "    # Interpolate PSD to ensure even frequency spacing\n",
        "    f_interp = np.linspace(f.min(), f.max(), len(f))\n",
        "    psd_interp = interp1d(f, psd, kind='linear', fill_value='extrapolate')(f_interp)\n",
        "\n",
        "    # Calculate index range for each frequency band\n",
        "    delta_indices = np.where((f_interp >= delta_band[0]) & (f_interp <= delta_band[1]))[0]\n",
        "    theta_indices = np.where((f_interp >= theta_band[0]) & (f_interp <= theta_band[1]))[0]\n",
        "    alpha_indices = np.where((f_interp >= alpha_band[0]) & (f_interp <= alpha_band[1]))[0]\n",
        "    beta_indices = np.where((f_interp >= beta_band[0]) & (f_interp <= beta_band[1]))[0]\n",
        "    gamma_indices = np.where((f_interp >= gamma_band[0]) & (f_interp <= gamma_band[1]))[0]\n",
        "\n",
        "    # Extract power in each frequency band\n",
        "    delta_power = np.trapz(psd_interp[delta_indices], dx=f_interp[1] - f_interp[0])\n",
        "    theta_power = np.trapz(psd_interp[theta_indices], dx=f_interp[1] - f_interp[0])\n",
        "    alpha_power = np.trapz(psd_interp[alpha_indices], dx=f_interp[1] - f_interp[0])\n",
        "    beta_power = np.trapz(psd_interp[beta_indices], dx=f_interp[1] - f_interp[0])\n",
        "    gamma_power = np.trapz(psd_interp[gamma_indices], dx=f_interp[1] - f_interp[0])\n",
        "\n",
        "    return {\n",
        "        'Delta': delta_power,\n",
        "        'Theta': theta_power,\n",
        "        'Alpha': alpha_power,\n",
        "        'Beta': beta_power,\n",
        "        'Gamma': gamma_power\n",
        "    }"
      ],
      "metadata": {
        "id": "xB0fJvtaWp7R"
      },
      "execution_count": null,
      "outputs": []
    },
    {
      "cell_type": "code",
      "execution_count": null,
      "metadata": {
        "colab": {
          "base_uri": "https://localhost:8080/"
        },
        "id": "ymS4ELuORfIE",
        "outputId": "a0a9c963-4081-486b-ecd0-05c18bc95d3c"
      },
      "outputs": [
        {
          "output_type": "stream",
          "name": "stdout",
          "text": [
            "shape of bio segment 1 (125, 600)\n",
            "Time-domain features shape: (100, 6)\n",
            "Example features for the first window: [-4.28430938  9.39187038 -4.14708376 45.82211876 -0.3534539  -0.33584369]\n",
            "Time-domain features saved to /content/drive/MyDrive/Features Dataset2_ASD_TD/TD/0.xlsx\n",
            "Frequency band powers saved to /content/drive/MyDrive/Features Dataset2_ASD_TD/TD/0_bands.xlsx\n",
            "shape of bio segment 1 (125, 600)\n",
            "Time-domain features shape: (100, 6)\n",
            "Example features for the first window: [-35.41410763  13.48713692 -36.33358765  59.6532402    0.29086696\n",
            "  -0.50141414]\n",
            "Time-domain features saved to /content/drive/MyDrive/Features Dataset2_ASD_TD/TD/1.xlsx\n",
            "Frequency band powers saved to /content/drive/MyDrive/Features Dataset2_ASD_TD/TD/1_bands.xlsx\n",
            "shape of bio segment 1 (125, 600)\n",
            "Time-domain features shape: (100, 6)\n",
            "Example features for the first window: [-13.10446718  13.04084074 -17.09512615  56.57668877   0.42798355\n",
            "  -0.88881815]\n",
            "Time-domain features saved to /content/drive/MyDrive/Features Dataset2_ASD_TD/TD/2.xlsx\n",
            "Frequency band powers saved to /content/drive/MyDrive/Features Dataset2_ASD_TD/TD/2_bands.xlsx\n",
            "shape of bio segment 1 (125, 600)\n",
            "Time-domain features shape: (100, 6)\n",
            "Example features for the first window: [-2.27870409e+00  1.34155242e+01 -3.03387070e+00  6.47026367e+01\n",
            " -5.44850524e-02 -5.22074831e-01]\n",
            "Time-domain features saved to /content/drive/MyDrive/Features Dataset2_ASD_TD/TD/3.xlsx\n",
            "Frequency band powers saved to /content/drive/MyDrive/Features Dataset2_ASD_TD/TD/3_bands.xlsx\n",
            "shape of bio segment 1 (125, 600)\n",
            "Time-domain features shape: (100, 6)\n",
            "Example features for the first window: [-2.66977312e+01  7.41983791e+00 -2.49343786e+01  3.54076385e+01\n",
            " -6.50692228e-01 -2.24961311e-02]\n",
            "Time-domain features saved to /content/drive/MyDrive/Features Dataset2_ASD_TD/TD/4.xlsx\n",
            "Frequency band powers saved to /content/drive/MyDrive/Features Dataset2_ASD_TD/TD/4_bands.xlsx\n",
            "File Failed to be Processed\n",
            "shape of bio segment 1 (125, 600)\n",
            "Time-domain features shape: (100, 6)\n",
            "Example features for the first window: [-27.72718356   6.36657107 -28.11175728  32.87658501   0.09939379\n",
            "  -0.33543187]\n",
            "Time-domain features saved to /content/drive/MyDrive/Features Dataset2_ASD_TD/TD/6.xlsx\n",
            "Frequency band powers saved to /content/drive/MyDrive/Features Dataset2_ASD_TD/TD/6_bands.xlsx\n",
            "shape of bio segment 1 (125, 600)\n",
            "Time-domain features shape: (100, 6)\n",
            "Example features for the first window: [ 6.91998522e+00  7.15878660e+00  7.00608015e+00  4.07888241e+01\n",
            " -8.05498892e-03 -3.14575958e-01]\n",
            "Time-domain features saved to /content/drive/MyDrive/Features Dataset2_ASD_TD/TD/7.xlsx\n",
            "Frequency band powers saved to /content/drive/MyDrive/Features Dataset2_ASD_TD/TD/7_bands.xlsx\n",
            "shape of bio segment 1 (125, 600)\n",
            "Time-domain features shape: (100, 6)\n",
            "Example features for the first window: [ 9.82426565  9.35649949 10.48070669 43.41972351 -0.12550458 -0.78793111]\n",
            "Time-domain features saved to /content/drive/MyDrive/Features Dataset2_ASD_TD/TD/8.xlsx\n",
            "Frequency band powers saved to /content/drive/MyDrive/Features Dataset2_ASD_TD/TD/8_bands.xlsx\n",
            "shape of bio segment 1 (125, 600)\n",
            "Time-domain features shape: (100, 6)\n",
            "Example features for the first window: [-2.18804802e+01  7.03858890e+00 -2.18690395e+01  3.86710625e+01\n",
            " -2.08304910e-02 -4.36664746e-01]\n",
            "Time-domain features saved to /content/drive/MyDrive/Features Dataset2_ASD_TD/TD/9.xlsx\n",
            "Frequency band powers saved to /content/drive/MyDrive/Features Dataset2_ASD_TD/TD/9_bands.xlsx\n",
            "File Failed to be Processed\n",
            "shape of bio segment 1 (125, 600)\n",
            "Time-domain features shape: (100, 6)\n",
            "Example features for the first window: [-10.80659523   6.96025833 -10.82616997  30.55088806  -0.25659488\n",
            "  -0.73269337]\n",
            "Time-domain features saved to /content/drive/MyDrive/Features Dataset2_ASD_TD/TD/11.xlsx\n",
            "Frequency band powers saved to /content/drive/MyDrive/Features Dataset2_ASD_TD/TD/11_bands.xlsx\n",
            "File Failed to be Processed\n",
            "shape of bio segment 1 (125, 600)\n",
            "Time-domain features shape: (100, 6)\n",
            "Example features for the first window: [16.88345687  9.99190644 16.81246185 55.77160263  0.06356148  0.35799709]\n",
            "Time-domain features saved to /content/drive/MyDrive/Features Dataset2_ASD_TD/TD/13.xlsx\n",
            "Frequency band powers saved to /content/drive/MyDrive/Features Dataset2_ASD_TD/TD/13_bands.xlsx\n",
            "shape of bio segment 1 (125, 600)\n",
            "Time-domain features shape: (100, 6)\n",
            "Example features for the first window: [ 6.82023525  8.48025246  5.84966564 45.00339317  0.52856208  0.06514683]\n",
            "Time-domain features saved to /content/drive/MyDrive/Features Dataset2_ASD_TD/TD/14.xlsx\n",
            "Frequency band powers saved to /content/drive/MyDrive/Features Dataset2_ASD_TD/TD/14_bands.xlsx\n"
          ]
        }
      ],
      "source": [
        "index = 0\n",
        "for mat_file_path in mat_files:\n",
        "  try:\n",
        "    mat_data = scipy.io.loadmat(mat_file_path)\n",
        "    try:\n",
        "      eeg_data = mat_data['Bio_Segment4']\n",
        "    except:\n",
        "      try:\n",
        "        eeg_data = mat_data['Known_Segment4']\n",
        "      except:\n",
        "        eeg_data = mat_data['EO_Segment4']\n",
        "\n",
        "    print(\"shape of bio segment 1\",eeg_data.shape)\n",
        "\n",
        "    if len(mat_files) == 1:\n",
        "\n",
        "      # Plot EEG channels\n",
        "      num_channels, num_time_points = eeg_data.shape\n",
        "\n",
        "      for channel in range(num_channels):\n",
        "          plt.plot(eeg_data[channel, :], label=f'Channel {channel + 1}')\n",
        "\n",
        "      plt.title('EEG Data Plot')\n",
        "      plt.xlabel('Time Points')\n",
        "      plt.ylabel('Amplitude')\n",
        "      plt.legend()\n",
        "      plt.show()\n",
        "\n",
        "      # Plot the top 5 EEG channels\n",
        "      num_channels, num_time_points = eeg_data.shape\n",
        "      num_channels_to_plot = min(5, num_channels)  # Choose the top 5 channels or all channels if less than 5\n",
        "\n",
        "      for channel in range(num_channels_to_plot):\n",
        "          plt.plot(eeg_data[channel, :], label=f'Channel {channel + 1}')\n",
        "\n",
        "      plt.title('Top 5 EEG Channels')\n",
        "      plt.xlabel('Time Points')\n",
        "      plt.ylabel('Amplitude')\n",
        "      plt.legend()\n",
        "      plt.show()\n",
        "\n",
        "\n",
        "    # Parameters for window slicing\n",
        "    window_size = 100  # Size of each window\n",
        "    overlap = 50  # Overlap between consecutive windows\n",
        "\n",
        "\n",
        "    # Apply window slicing to the EEG signal\n",
        "    eeg_windows = window_slice(eeg_data, window_size, overlap)\n",
        "    eeg_windows = np.reshape(eeg_windows, (100, 600))\n",
        "\n",
        "    if len(mat_file_path) == 1:\n",
        "\n",
        "      # Plot the original EEG signal and the sliced windows\n",
        "      plt.figure(figsize=(10, 6))\n",
        "\n",
        "      plt.subplot(2, 1, 1)\n",
        "      plt.plot(eeg_data)\n",
        "      plt.title('Reconstructed EEG Signal')\n",
        "      plt.xlabel('Sample')\n",
        "      plt.ylabel('Amplitude')\n",
        "\n",
        "      plt.subplot(2, 1, 2)\n",
        "\n",
        "      for i, window in enumerate(eeg_windows):\n",
        "          plt.subplot(len(eeg_windows), 1, i + 1)\n",
        "          plt.plot(window, color='b')\n",
        "          plt.gca().xaxis.set_major_locator(MaxNLocator(integer=True))\n",
        "          plt.title(f'Window {i + 1}')\n",
        "          plt.xlabel('Sample')\n",
        "          plt.ylabel('Amplitude')\n",
        "\n",
        "      # Adjust layout and save to an Excel file\n",
        "      plt.tight_layout()\n",
        "      plt.savefig('eeg_windows_16.png')\n",
        "      plt.close()\n",
        "\n",
        "\n",
        "    # Extract time-domain features for each window\n",
        "    time_domain_features = [extract_time_domain_features(window) for window in eeg_windows]\n",
        "\n",
        "    # Convert the list of features to a NumPy array\n",
        "    time_domain_features_array = np.array(time_domain_features)\n",
        "\n",
        "    # Print or use the features as needed\n",
        "    print(\"Time-domain features shape:\", time_domain_features_array.shape)\n",
        "    print(\"Example features for the first window:\", time_domain_features_array[0])\n",
        "\n",
        "\n",
        "    # Save features to Excel file\n",
        "    feature_names = ['Mean', 'Std', 'Median', 'Range', 'Skewness', 'Kurtosis']\n",
        "    df = pd.DataFrame(time_domain_features_array, columns=feature_names)\n",
        "\n",
        "    # Save the DataFrame to an Excel file\n",
        "    folder_number = str(index)\n",
        "    index += 1\n",
        "    # Create Excel file name\n",
        "    # excel_file_path = '/content/drive/MyDrive/Features Dataset2_ASD_TD/ASD/' + folder_number + '.xlsx'\n",
        "    excel_file_path = '/content/drive/MyDrive/Features Dataset2_ASD_TD/TD/' + folder_number + '.xlsx'\n",
        "\n",
        "    df.to_excel(excel_file_path, index=False)\n",
        "\n",
        "    print(f'Time-domain features saved to {excel_file_path}')\n",
        "\n",
        "\n",
        "    # Sample rate of the EEG signal (adjust as needed)\n",
        "    sampling_rate = 1000  # Hz\n",
        "\n",
        "    # Extract frequency band power for each window\n",
        "    frequency_band_powers = [extract_frequency_bands(window, sampling_rate) for window in eeg_windows]\n",
        "\n",
        "    # Convert the list of features to a pandas DataFrame\n",
        "    frequency_band_df = pd.DataFrame(frequency_band_powers)\n",
        "    # Save the DataFrame to an Excel file\n",
        "    # excel_file_path = '/content/drive/MyDrive/Features Dataset2_ASD_TD/ASD/' + folder_number + '_bands.xlsx'\n",
        "    excel_file_path = '/content/drive/MyDrive/Features Dataset2_ASD_TD/TD/' + folder_number + '_bands.xlsx'\n",
        "\n",
        "    frequency_band_df.to_excel(excel_file_path, index=False)\n",
        "    print(f'Frequency band powers saved to {excel_file_path}')\n",
        "  except:\n",
        "    print('File Failed to be Processed')\n",
        "    index += 1"
      ]
    }
  ]
}