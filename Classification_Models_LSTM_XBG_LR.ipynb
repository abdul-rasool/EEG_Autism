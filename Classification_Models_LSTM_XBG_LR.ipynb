{
  "nbformat": 4,
  "nbformat_minor": 0,
  "metadata": {
    "colab": {
      "provenance": [],
      "gpuType": "T4"
    },
    "kernelspec": {
      "name": "python3",
      "display_name": "Python 3"
    },
    "language_info": {
      "name": "python"
    },
    "accelerator": "GPU"
  },
  "cells": [
    {
      "cell_type": "code",
      "source": [
        "import numpy as np\n",
        "import tensorflow as tf\n",
        "from tensorflow.keras.models import Model\n",
        "from tensorflow.keras.layers import Input, LSTM, RepeatVector, TimeDistributed, Dense, Dropout\n",
        "from tensorflow.keras.callbacks import EarlyStopping, ReduceLROnPlateau\n",
        "from sklearn.model_selection import train_test_split\n",
        "from xgboost import XGBRegressor\n",
        "from sklearn.linear_model import LinearRegression\n",
        "from sklearn.metrics import accuracy_score\n",
        "import os\n",
        "import pandas as pd"
      ],
      "metadata": {
        "id": "ukdDgEGyl-k-"
      },
      "execution_count": 1,
      "outputs": []
    },
    {
      "cell_type": "code",
      "execution_count": 2,
      "metadata": {
        "colab": {
          "base_uri": "https://localhost:8080/"
        },
        "id": "MI33WFHeknCp",
        "outputId": "f8d5dbc5-80d7-4d36-da0a-3ea3600c8c3c"
      },
      "outputs": [
        {
          "output_type": "stream",
          "name": "stdout",
          "text": [
            "Mounted at /content/drive\n"
          ]
        }
      ],
      "source": [
        "\"\"\"Mounting Google Drive\"\"\"\n",
        "from google.colab import drive\n",
        "drive.mount('/content/drive', force_remount = True)"
      ]
    },
    {
      "cell_type": "code",
      "source": [
        "import seaborn as sns\n",
        "sns.set_context('paper', font_scale=2)"
      ],
      "metadata": {
        "id": "OFj4unnMvg4o"
      },
      "execution_count": 3,
      "outputs": []
    },
    {
      "cell_type": "code",
      "source": [
        "folder_path = \"/content/drive/MyDrive/Features ASD_TD/\"\n",
        "\n",
        "# Initialize an empty list to store the combined data and labels\n",
        "data_list = []\n",
        "labels = []\n",
        "# Iterate through the ASD and TD folders\n",
        "for label, folder_name in enumerate([\"ASD\", \"TD\"]):\n",
        "    folder_dir = os.path.join(folder_path, folder_name)\n",
        "\n",
        "    # Iterate through files in each folder\n",
        "    for file_name in os.listdir(folder_dir):\n",
        "        if file_name.endswith(\".xlsx\"):\n",
        "            file_path = os.path.join(folder_dir, file_name)\n",
        "            # Check if the corresponding bands file exists\n",
        "            bands_file_path = os.path.join(folder_dir, file_name.split('.')[0] + \"_bands.xlsx\")\n",
        "            if os.path.exists(bands_file_path):\n",
        "                # Read both excel files\n",
        "                df_main = pd.read_excel(file_path)\n",
        "                df_bands = pd.read_excel(bands_file_path)\n",
        "                # Combine along columns\n",
        "                combined_df = pd.concat([df_main, df_bands], axis=1)\n",
        "                # Append the combined data and label to the list\n",
        "                data_list.append(combined_df)\n",
        "                labels.append(label)"
      ],
      "metadata": {
        "id": "sHwbG06kl1xE"
      },
      "execution_count": 4,
      "outputs": []
    },
    {
      "cell_type": "code",
      "source": [
        "np.shape(data_list)"
      ],
      "metadata": {
        "colab": {
          "base_uri": "https://localhost:8080/"
        },
        "id": "3WRI-VuBNlsV",
        "outputId": "87d91499-3420-431a-867d-673d2cf68a94"
      },
      "execution_count": 16,
      "outputs": [
        {
          "output_type": "execute_result",
          "data": {
            "text/plain": [
              "(29, 100, 11)"
            ]
          },
          "metadata": {},
          "execution_count": 16
        }
      ]
    },
    {
      "cell_type": "code",
      "source": [
        "from sklearn.preprocessing import StandardScaler\n",
        "\n",
        "data_2d = np.asarray(data_list).reshape(-1, np.asarray(data_list).shape[-1])\n",
        "\n",
        "scaler = StandardScaler()\n",
        "scaled_data_2d = scaler.fit_transform(data_2d)\n",
        "data = scaled_data_2d.reshape(np.asarray(data_list).shape)"
      ],
      "metadata": {
        "id": "kmFAVLdHnZ4A"
      },
      "execution_count": 5,
      "outputs": []
    },
    {
      "cell_type": "code",
      "source": [
        "\"\"\" Data Augmentation\"\"\"\n",
        "\n",
        "def augment_data(data, labels, target_samples=1000, noise_factor=0.5):\n",
        "    augmented_data = []\n",
        "    augmented_labels = []\n",
        "\n",
        "    while len(augmented_data) < target_samples:\n",
        "        idx = np.random.randint(0, len(data))\n",
        "        original_sample = data[idx]\n",
        "        original_label = labels[idx]\n",
        "\n",
        "        noisy_sample = original_sample + noise_factor * np.random.normal(size=original_sample.shape)\n",
        "\n",
        "        augmented_data.append(noisy_sample)\n",
        "        augmented_labels.append(original_label)\n",
        "\n",
        "    augmented_data = np.array(augmented_data)\n",
        "    augmented_labels = np.array(augmented_labels)\n",
        "\n",
        "    return augmented_data, augmented_labels\n",
        "\n",
        "augmented_data, augmented_labels = augment_data(data, labels, target_samples=1000, noise_factor=0.0005)"
      ],
      "metadata": {
        "id": "1x9ccLGFou7K"
      },
      "execution_count": 6,
      "outputs": []
    },
    {
      "cell_type": "code",
      "source": [
        "from sklearn.model_selection import train_test_split\n",
        "\n",
        "X_train, X_test, y_train, y_test = train_test_split(augmented_data, augmented_labels, test_size=0.2, random_state=42)"
      ],
      "metadata": {
        "id": "-ztpkK-0qUQU"
      },
      "execution_count": 7,
      "outputs": []
    },
    {
      "cell_type": "code",
      "source": [
        "timesteps = 100\n",
        "n_features = 11\n",
        "encoding_dim = 10  # Adjust encoding dimensions as needed\n",
        "\n",
        "inputs = Input(shape=(timesteps, n_features))\n",
        "\n",
        "# Encoder\n",
        "encoded = LSTM(128, return_sequences=True)(inputs)\n",
        "encoded = Dropout(0.2)(encoded)\n",
        "encoded = LSTM(64, return_sequences=True)(encoded)\n",
        "encoded = Dropout(0.2)(encoded)\n",
        "encoded = LSTM(encoding_dim)(encoded)\n",
        "\n",
        "# Decoder\n",
        "decoded = RepeatVector(timesteps)(encoded)\n",
        "decoded = LSTM(encoding_dim, return_sequences=True)(decoded)\n",
        "decoded = Dropout(0.2)(decoded)\n",
        "decoded = LSTM(64, return_sequences=True)(decoded)\n",
        "decoded = Dropout(0.2)(decoded)\n",
        "decoded = LSTM(128, return_sequences=True)(decoded)\n",
        "decoded = TimeDistributed(Dense(n_features))(decoded)\n",
        "\n",
        "autoencoder = Model(inputs, decoded)\n",
        "encoder = Model(inputs, encoded)\n",
        "\n",
        "autoencoder.compile(optimizer='adam', loss='mse')\n",
        "\n",
        "# Callbacks\n",
        "early_stopping = EarlyStopping(monitor='val_loss', patience=10, restore_best_weights=True)\n",
        "reduce_lr = ReduceLROnPlateau(monitor='val_loss', factor=0.2, patience=5, min_lr=0.0001)\n",
        "\n",
        "history  = autoencoder.fit(X_train, X_train,\n",
        "                epochs=50,\n",
        "                batch_size=16,\n",
        "                validation_split=0.1,\n",
        "                callbacks=[reduce_lr])\n",
        "\n",
        "# Encode the training and test data\n",
        "X_train_encoded = encoder.predict(X_train)\n",
        "X_test_encoded = encoder.predict(X_test)"
      ],
      "metadata": {
        "id": "FKE7SX_OpN_e",
        "colab": {
          "base_uri": "https://localhost:8080/"
        },
        "outputId": "c66bf27c-029b-49f7-9cc4-c10e9f8f7d0c"
      },
      "execution_count": 8,
      "outputs": [
        {
          "output_type": "stream",
          "name": "stdout",
          "text": [
            "Epoch 1/50\n",
            "45/45 [==============================] - 15s 77ms/step - loss: 0.8798 - val_loss: 0.7601 - lr: 0.0010\n",
            "Epoch 2/50\n",
            "45/45 [==============================] - 1s 26ms/step - loss: 0.7180 - val_loss: 0.6865 - lr: 0.0010\n",
            "Epoch 3/50\n",
            "45/45 [==============================] - 1s 25ms/step - loss: 0.6752 - val_loss: 0.7292 - lr: 0.0010\n",
            "Epoch 4/50\n",
            "45/45 [==============================] - 1s 24ms/step - loss: 0.6586 - val_loss: 0.6180 - lr: 0.0010\n",
            "Epoch 5/50\n",
            "45/45 [==============================] - 1s 29ms/step - loss: 0.6465 - val_loss: 0.6311 - lr: 0.0010\n",
            "Epoch 6/50\n",
            "45/45 [==============================] - 2s 35ms/step - loss: 0.5938 - val_loss: 0.5865 - lr: 0.0010\n",
            "Epoch 7/50\n",
            "45/45 [==============================] - 2s 35ms/step - loss: 0.5640 - val_loss: 0.5488 - lr: 0.0010\n",
            "Epoch 8/50\n",
            "45/45 [==============================] - 1s 25ms/step - loss: 0.5304 - val_loss: 0.5011 - lr: 0.0010\n",
            "Epoch 9/50\n",
            "45/45 [==============================] - 1s 24ms/step - loss: 0.5315 - val_loss: 0.5024 - lr: 0.0010\n",
            "Epoch 10/50\n",
            "45/45 [==============================] - 1s 25ms/step - loss: 0.4649 - val_loss: 0.4226 - lr: 0.0010\n",
            "Epoch 11/50\n",
            "45/45 [==============================] - 1s 25ms/step - loss: 0.4434 - val_loss: 0.4067 - lr: 0.0010\n",
            "Epoch 12/50\n",
            "45/45 [==============================] - 1s 24ms/step - loss: 0.4173 - val_loss: 0.3950 - lr: 0.0010\n",
            "Epoch 13/50\n",
            "45/45 [==============================] - 1s 24ms/step - loss: 0.3917 - val_loss: 0.4170 - lr: 0.0010\n",
            "Epoch 14/50\n",
            "45/45 [==============================] - 1s 24ms/step - loss: 0.3869 - val_loss: 0.3698 - lr: 0.0010\n",
            "Epoch 15/50\n",
            "45/45 [==============================] - 1s 25ms/step - loss: 0.3421 - val_loss: 0.3541 - lr: 0.0010\n",
            "Epoch 16/50\n",
            "45/45 [==============================] - 1s 25ms/step - loss: 0.3428 - val_loss: 0.2874 - lr: 0.0010\n",
            "Epoch 17/50\n",
            "45/45 [==============================] - 2s 35ms/step - loss: 0.3139 - val_loss: 0.3100 - lr: 0.0010\n",
            "Epoch 18/50\n",
            "45/45 [==============================] - 2s 34ms/step - loss: 0.3100 - val_loss: 0.3622 - lr: 0.0010\n",
            "Epoch 19/50\n",
            "45/45 [==============================] - 1s 31ms/step - loss: 0.3117 - val_loss: 0.2835 - lr: 0.0010\n",
            "Epoch 20/50\n",
            "45/45 [==============================] - 1s 24ms/step - loss: 0.2788 - val_loss: 0.2525 - lr: 0.0010\n",
            "Epoch 21/50\n",
            "45/45 [==============================] - 1s 24ms/step - loss: 0.2702 - val_loss: 0.3523 - lr: 0.0010\n",
            "Epoch 22/50\n",
            "45/45 [==============================] - 1s 25ms/step - loss: 0.2685 - val_loss: 0.2719 - lr: 0.0010\n",
            "Epoch 23/50\n",
            "45/45 [==============================] - 1s 25ms/step - loss: 0.2479 - val_loss: 0.2216 - lr: 0.0010\n",
            "Epoch 24/50\n",
            "45/45 [==============================] - 1s 24ms/step - loss: 0.2538 - val_loss: 0.3678 - lr: 0.0010\n",
            "Epoch 25/50\n",
            "45/45 [==============================] - 1s 25ms/step - loss: 0.2424 - val_loss: 0.2246 - lr: 0.0010\n",
            "Epoch 26/50\n",
            "45/45 [==============================] - 1s 24ms/step - loss: 0.2331 - val_loss: 0.2088 - lr: 0.0010\n",
            "Epoch 27/50\n",
            "45/45 [==============================] - 1s 24ms/step - loss: 0.2103 - val_loss: 0.1972 - lr: 0.0010\n",
            "Epoch 28/50\n",
            "45/45 [==============================] - 1s 30ms/step - loss: 0.2387 - val_loss: 0.1978 - lr: 0.0010\n",
            "Epoch 29/50\n",
            "45/45 [==============================] - 2s 33ms/step - loss: 0.2043 - val_loss: 0.1859 - lr: 0.0010\n",
            "Epoch 30/50\n",
            "45/45 [==============================] - 2s 35ms/step - loss: 0.2230 - val_loss: 0.1961 - lr: 0.0010\n",
            "Epoch 31/50\n",
            "45/45 [==============================] - 1s 27ms/step - loss: 0.2262 - val_loss: 0.1763 - lr: 0.0010\n",
            "Epoch 32/50\n",
            "45/45 [==============================] - 1s 25ms/step - loss: 0.1856 - val_loss: 0.1774 - lr: 0.0010\n",
            "Epoch 33/50\n",
            "45/45 [==============================] - 1s 25ms/step - loss: 0.4752 - val_loss: 0.4148 - lr: 0.0010\n",
            "Epoch 34/50\n",
            "45/45 [==============================] - 1s 25ms/step - loss: 0.2844 - val_loss: 0.2360 - lr: 0.0010\n",
            "Epoch 35/50\n",
            "45/45 [==============================] - 1s 25ms/step - loss: 0.2220 - val_loss: 0.2080 - lr: 0.0010\n",
            "Epoch 36/50\n",
            "45/45 [==============================] - 1s 25ms/step - loss: 0.2026 - val_loss: 0.1873 - lr: 0.0010\n",
            "Epoch 37/50\n",
            "45/45 [==============================] - 1s 24ms/step - loss: 0.1919 - val_loss: 0.1842 - lr: 2.0000e-04\n",
            "Epoch 38/50\n",
            "45/45 [==============================] - 1s 24ms/step - loss: 0.1897 - val_loss: 0.1820 - lr: 2.0000e-04\n",
            "Epoch 39/50\n",
            "45/45 [==============================] - 1s 24ms/step - loss: 0.1865 - val_loss: 0.1790 - lr: 2.0000e-04\n",
            "Epoch 40/50\n",
            "45/45 [==============================] - 1s 30ms/step - loss: 0.1838 - val_loss: 0.1767 - lr: 2.0000e-04\n",
            "Epoch 41/50\n",
            "45/45 [==============================] - 2s 35ms/step - loss: 0.1814 - val_loss: 0.1737 - lr: 2.0000e-04\n",
            "Epoch 42/50\n",
            "45/45 [==============================] - 2s 35ms/step - loss: 0.1792 - val_loss: 0.1717 - lr: 2.0000e-04\n",
            "Epoch 43/50\n",
            "45/45 [==============================] - 1s 24ms/step - loss: 0.1763 - val_loss: 0.1685 - lr: 2.0000e-04\n",
            "Epoch 44/50\n",
            "45/45 [==============================] - 1s 24ms/step - loss: 0.1738 - val_loss: 0.1658 - lr: 2.0000e-04\n",
            "Epoch 45/50\n",
            "45/45 [==============================] - 1s 24ms/step - loss: 0.1716 - val_loss: 0.1640 - lr: 2.0000e-04\n",
            "Epoch 46/50\n",
            "45/45 [==============================] - 1s 24ms/step - loss: 0.1702 - val_loss: 0.1608 - lr: 2.0000e-04\n",
            "Epoch 47/50\n",
            "45/45 [==============================] - 1s 24ms/step - loss: 0.1668 - val_loss: 0.1584 - lr: 2.0000e-04\n",
            "Epoch 48/50\n",
            "45/45 [==============================] - 1s 25ms/step - loss: 0.1645 - val_loss: 0.1559 - lr: 2.0000e-04\n",
            "Epoch 49/50\n",
            "45/45 [==============================] - 1s 24ms/step - loss: 0.1623 - val_loss: 0.1538 - lr: 2.0000e-04\n",
            "Epoch 50/50\n",
            "45/45 [==============================] - 1s 24ms/step - loss: 0.1603 - val_loss: 0.1515 - lr: 2.0000e-04\n",
            "25/25 [==============================] - 2s 8ms/step\n",
            "7/7 [==============================] - 1s 7ms/step\n"
          ]
        }
      ]
    },
    {
      "cell_type": "code",
      "source": [
        "import matplotlib.pyplot as plt\n",
        "\n",
        "\n",
        "plt.figure(figsize=(10, 5))\n",
        "plt.plot(history.history['loss'])\n",
        "plt.plot(history.history['val_loss'])\n",
        "plt.title('Training Loss')\n",
        "plt.xlabel('Epochs')\n",
        "plt.ylabel('MSE')\n",
        "plt.grid(True)\n",
        "\n",
        "plt.tight_layout()\n",
        "\n",
        "# Save as EPS\n",
        "plt.savefig('loss.eps', format='eps')\n",
        "\n",
        "# Save as PDF\n",
        "plt.savefig('loss.pdf', format='pdf')\n",
        "\n",
        "plt.show()"
      ],
      "metadata": {
        "colab": {
          "base_uri": "https://localhost:8080/",
          "height": 479
        },
        "id": "7eDtKqvPtaFg",
        "outputId": "db7a8785-c157-4691-e44c-e01f66f95807"
      },
      "execution_count": 9,
      "outputs": [
        {
          "output_type": "display_data",
          "data": {
            "text/plain": [
              "<Figure size 1000x500 with 1 Axes>"
            ],
            "image/png": "[encoded data removed]"
          },
          "metadata": {}
        }
      ]
    },
    {
      "cell_type": "code",
      "source": [
        "# Train the XGBoost regressor\n",
        "xgb_regressor = XGBRegressor(n_estimators=200, max_depth=3, learning_rate=0.0001)\n",
        "xgb_regressor.fit(X_train_encoded, y_train)\n",
        "\n",
        "# Predict using XGBoost regressor\n",
        "xgb_train_predictions = xgb_regressor.predict(X_train_encoded)\n",
        "xgb_test_predictions = xgb_regressor.predict(X_test_encoded)"
      ],
      "metadata": {
        "id": "iAy0TuLORE0U"
      },
      "execution_count": 10,
      "outputs": []
    },
    {
      "cell_type": "code",
      "source": [
        "# Train the Linear Regression model on the XGBoost outputs\n",
        "linear_regressor = LinearRegression()\n",
        "linear_regressor.fit(xgb_train_predictions.reshape(-1, 1), y_train)\n",
        "\n",
        "# Predict using Linear Regression model\n",
        "final_train_predictions = linear_regressor.predict(xgb_train_predictions.reshape(-1, 1))\n",
        "final_test_predictions = linear_regressor.predict(xgb_test_predictions.reshape(-1, 1))\n",
        "\n",
        "threshold = 0.5\n",
        "final_test_predictions_class = (final_test_predictions > threshold).astype(int)\n",
        "\n",
        "# Evaluate the model\n",
        "accuracy = accuracy_score(y_test, final_test_predictions_class)\n",
        "print(f'Final Model Accuracy: {accuracy:.2f}')"
      ],
      "metadata": {
        "colab": {
          "base_uri": "https://localhost:8080/"
        },
        "id": "G4aqXZb5RM4Z",
        "outputId": "c476da0b-f7bd-4cf5-b8ce-e3ce4b56d2c7"
      },
      "execution_count": 11,
      "outputs": [
        {
          "output_type": "stream",
          "name": "stdout",
          "text": [
            "Final Model Accuracy: 0.98\n"
          ]
        }
      ]
    },
    {
      "cell_type": "code",
      "source": [
        "from sklearn.metrics import confusion_matrix, accuracy_score, precision_score, recall_score, f1_score\n",
        "\n",
        "\n",
        "\n",
        "conf_matrix = confusion_matrix(y_test, final_test_predictions_class)\n",
        "accuracy = accuracy_score(y_test, final_test_predictions_class)\n",
        "precision = precision_score(y_test, final_test_predictions_class)\n",
        "recall = recall_score(y_test, final_test_predictions_class)\n",
        "f1 = f1_score(y_test, final_test_predictions_class)\n",
        "\n",
        "print(\"Confusion Matrix:\\n\", conf_matrix)\n",
        "print(\"Accuracy:\", accuracy)\n",
        "print(\"Precision:\", precision)\n",
        "print(\"Recall:\", recall)\n",
        "print(\"F1-score:\", f1)"
      ],
      "metadata": {
        "colab": {
          "base_uri": "https://localhost:8080/"
        },
        "id": "6SkmG6vJ1ELS",
        "outputId": "616f2b9e-daea-4d95-fe9f-3458205ca672"
      },
      "execution_count": 12,
      "outputs": [
        {
          "output_type": "stream",
          "name": "stdout",
          "text": [
            "Confusion Matrix:\n",
            " [[99  4]\n",
            " [ 0 97]]\n",
            "Accuracy: 0.98\n",
            "Precision: 0.9603960396039604\n",
            "Recall: 1.0\n",
            "F1-score: 0.9797979797979798\n"
          ]
        }
      ]
    },
    {
      "cell_type": "code",
      "source": [
        "import seaborn as sns\n",
        "import seaborn as sns\n",
        "import matplotlib.pyplot as plt\n",
        "\n",
        "plt.figure(figsize=(6, 6))\n",
        "sns.set_context('paper', font_scale=2.2)\n",
        "sns.heatmap(conf_matrix, annot=True, cmap='YlGnBu', fmt='g',\n",
        "            xticklabels=['ASD', 'TD'],\n",
        "            yticklabels=['ASD', 'TD'],\n",
        "            cbar=False)  # Remove the color bar\n",
        "plt.xlabel('Predicted label')\n",
        "plt.ylabel('True label')\n",
        "plt.tight_layout()\n",
        "plt.savefig('conf_EEFM.eps', format='eps')\n",
        "plt.savefig('conf_EEFM.pdf', format='pdf')\n",
        "plt.show()"
      ],
      "metadata": {
        "colab": {
          "base_uri": "https://localhost:8080/",
          "height": 573
        },
        "id": "RXqUKVlT1IPC",
        "outputId": "16669fe2-d211-4b83-cb42-2ce6f2f5d287"
      },
      "execution_count": 13,
      "outputs": [
        {
          "output_type": "display_data",
          "data": {
            "text/plain": [
              "<Figure size 600x600 with 1 Axes>"
            ],
            "image/png": "[encoded data removed]"
          },
          "metadata": {}
        }
      ]
    }
  ]
}