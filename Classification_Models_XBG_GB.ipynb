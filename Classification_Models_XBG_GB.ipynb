{
  "nbformat": 4,
  "nbformat_minor": 0,
  "metadata": {
    "colab": {
      "provenance": []
    },
    "kernelspec": {
      "name": "python3",
      "display_name": "Python 3"
    },
    "language_info": {
      "name": "python"
    }
  },
  "cells": [
    {
      "cell_type": "code",
      "source": [
        "import os\n",
        "import pandas as pd\n",
        "import numpy as np\n",
        "from xgboost import XGBClassifier\n",
        "from sklearn.ensemble import GradientBoostingClassifier, VotingClassifier\n",
        "import matplotlib.pyplot as plt"
      ],
      "metadata": {
        "id": "ukdDgEGyl-k-"
      },
      "execution_count": 18,
      "outputs": []
    },
    {
      "cell_type": "code",
      "execution_count": 19,
      "metadata": {
        "colab": {
          "base_uri": "https://localhost:8080/"
        },
        "id": "MI33WFHeknCp",
        "outputId": "e440809b-481f-4438-8f22-dd560d0b3948"
      },
      "outputs": [
        {
          "output_type": "stream",
          "name": "stdout",
          "text": [
            "Mounted at /content/drive\n"
          ]
        }
      ],
      "source": [
        "\"\"\"Mounting Google Drive\"\"\"\n",
        "from google.colab import drive\n",
        "drive.mount('/content/drive', force_remount = True)"
      ]
    },
    {
      "cell_type": "code",
      "source": [
        "folder_path = \"/content/drive/MyDrive/Features ASD_TD/\"\n",
        "\n",
        "# Initialize an empty list to store the combined data and labels\n",
        "data_list = []\n",
        "labels = []\n",
        "for label, folder_name in enumerate([\"ASD\", \"TD\"]):\n",
        "    folder_dir = os.path.join(folder_path, folder_name)\n",
        "\n",
        "    for file_name in os.listdir(folder_dir):\n",
        "        if file_name.endswith(\".xlsx\"):\n",
        "            file_path = os.path.join(folder_dir, file_name)\n",
        "            bands_file_path = os.path.join(folder_dir, file_name.split('.')[0] + \"_bands.xlsx\")\n",
        "            if os.path.exists(bands_file_path):\n",
        "                # Read both excel files\n",
        "                df_main = pd.read_excel(file_path)\n",
        "                df_bands = pd.read_excel(bands_file_path)\n",
        "                # Combine along columns\n",
        "                combined_df = pd.concat([df_main, df_bands], axis=1)\n",
        "                # Append the combined data and label to the list\n",
        "                data_list.append(combined_df)\n",
        "                labels.append(label)"
      ],
      "metadata": {
        "id": "sHwbG06kl1xE"
      },
      "execution_count": 20,
      "outputs": []
    },
    {
      "cell_type": "code",
      "source": [
        "np.shape(data_list)"
      ],
      "metadata": {
        "id": "vtngU5wqwLdj",
        "colab": {
          "base_uri": "https://localhost:8080/"
        },
        "outputId": "c18efe6c-1149-4bf8-f09f-6f038501a520"
      },
      "execution_count": 21,
      "outputs": [
        {
          "output_type": "execute_result",
          "data": {
            "text/plain": [
              "(29, 100, 11)"
            ]
          },
          "metadata": {},
          "execution_count": 21
        }
      ]
    },
    {
      "cell_type": "code",
      "source": [
        "from sklearn.preprocessing import StandardScaler\n",
        "\n",
        "data_2d = np.asarray(data_list).reshape(-1, np.asarray(data_list).shape[-1])\n",
        "\n",
        "scaler = StandardScaler()\n",
        "scaled_data_2d = scaler.fit_transform(data_2d)\n",
        "data = scaled_data_2d.reshape(np.asarray(data_list).shape)"
      ],
      "metadata": {
        "id": "kmFAVLdHnZ4A"
      },
      "execution_count": 22,
      "outputs": []
    },
    {
      "cell_type": "code",
      "source": [
        "\"\"\" Data Augmentation\"\"\"\n",
        "\n",
        "def augment_data(data, labels, target_samples=1000, noise_factor=0.5):\n",
        "    augmented_data = []\n",
        "    augmented_labels = []\n",
        "\n",
        "    while len(augmented_data) < target_samples:\n",
        "        idx = np.random.randint(0, len(data))\n",
        "        original_sample = data[idx]\n",
        "        original_label = labels[idx]\n",
        "\n",
        "        noisy_sample = original_sample + noise_factor * np.random.normal(size=original_sample.shape)\n",
        "\n",
        "        augmented_data.append(noisy_sample)\n",
        "        augmented_labels.append(original_label)\n",
        "\n",
        "    augmented_data = np.array(augmented_data)\n",
        "    augmented_labels = np.array(augmented_labels)\n",
        "\n",
        "    return augmented_data, augmented_labels\n",
        "\n",
        "augmented_data, augmented_labels = augment_data(data_list, labels, target_samples=1000, noise_factor=5)"
      ],
      "metadata": {
        "id": "1x9ccLGFou7K"
      },
      "execution_count": 23,
      "outputs": []
    },
    {
      "cell_type": "code",
      "source": [
        "augmented_data = augmented_data.reshape(augmented_data.shape[0], -1)"
      ],
      "metadata": {
        "id": "Jnm0cOYsrGb0"
      },
      "execution_count": 24,
      "outputs": []
    },
    {
      "cell_type": "code",
      "source": [
        "from sklearn.model_selection import train_test_split\n",
        "\n",
        "X_train, X_test, y_train, y_test = train_test_split(augmented_data, augmented_labels, test_size=0.2, random_state=42)"
      ],
      "metadata": {
        "id": "-ztpkK-0qUQU"
      },
      "execution_count": 25,
      "outputs": []
    },
    {
      "cell_type": "code",
      "source": [
        "# Initialize the individual classifiers\n",
        "xgb_classifier = XGBClassifier(\n",
        "    n_estimators=100,\n",
        "    max_depth=3,\n",
        "    learning_rate=0.1,\n",
        "    min_child_weight=1,\n",
        "    gamma=0,\n",
        "    subsample=0.8,\n",
        "    colsample_bytree=0.8\n",
        ")\n",
        "\n",
        "gb_classifier = GradientBoostingClassifier()\n",
        "\n",
        "xgb_classifier.fit(X_train, y_train)\n",
        "gb_classifier.fit(X_train, y_train)\n",
        "\n",
        "# Combine the classifiers using a voting classifier\n",
        "voting_classifier = VotingClassifier(\n",
        "    estimators=[\n",
        "        ('xgb', xgb_classifier),\n",
        "        ('gb', gb_classifier)\n",
        "    ],\n",
        "    voting='soft'\n",
        ")"
      ],
      "metadata": {
        "id": "FKE7SX_OpN_e"
      },
      "execution_count": 26,
      "outputs": []
    },
    {
      "cell_type": "code",
      "source": [
        "voting_classifier.fit(X_train, y_train)"
      ],
      "metadata": {
        "id": "DWFVo0_EqnwF",
        "colab": {
          "base_uri": "https://localhost:8080/",
          "height": 109
        },
        "outputId": "fce53013-1217-4e94-afdd-43d809c03340"
      },
      "execution_count": 27,
      "outputs": [
        {
          "output_type": "execute_result",
          "data": {
            "text/plain": [
              "VotingClassifier(estimators=[('xgb',\n",
              "                              XGBClassifier(base_score=None, booster=None,\n",
              "                                            callbacks=None,\n",
              "                                            colsample_bylevel=None,\n",
              "                                            colsample_bynode=None,\n",
              "                                            colsample_bytree=0.8, device=None,\n",
              "                                            early_stopping_rounds=None,\n",
              "                                            enable_categorical=False,\n",
              "                                            eval_metric=None,\n",
              "                                            feature_types=None, gamma=0,\n",
              "                                            grow_policy=None,\n",
              "                                            importance_type=None,\n",
              "                                            interaction_constraints=None,\n",
              "                                            learning_rate=0.1, max_bin=None,\n",
              "                                            max_cat_threshold=None,\n",
              "                                            max_cat_to_onehot=None,\n",
              "                                            max_delta_step=None, max_depth=3,\n",
              "                                            max_leaves=None, min_child_weight=1,\n",
              "                                            missing=nan,\n",
              "                                            monotone_constraints=None,\n",
              "                                            multi_strategy=None,\n",
              "                                            n_estimators=100, n_jobs=None,\n",
              "                                            num_parallel_tree=None,\n",
              "                                            random_state=None, ...)),\n",
              "                             ('gb', GradientBoostingClassifier())],\n",
              "                 voting='soft')"
            ],
            "text/html": [
              "<style>#sk-container-id-2 {color: black;background-color: white;}#sk-container-id-2 pre{padding: 0;}#sk-container-id-2 div.sk-toggleable {background-color: white;}#sk-container-id-2 label.sk-toggleable__label {cursor: pointer;display: block;width: 100%;margin-bottom: 0;padding: 0.3em;box-sizing: border-box;text-align: center;}#sk-container-id-2 label.sk-toggleable__label-arrow:before {content: \"▸\";float: left;margin-right: 0.25em;color: #696969;}#sk-container-id-2 label.sk-toggleable__label-arrow:hover:before {color: black;}#sk-container-id-2 div.sk-estimator:hover label.sk-toggleable__label-arrow:before {color: black;}#sk-container-id-2 div.sk-toggleable__content {max-height: 0;max-width: 0;overflow: hidden;text-align: left;background-color: #f0f8ff;}#sk-container-id-2 div.sk-toggleable__content pre {margin: 0.2em;color: black;border-radius: 0.25em;background-color: #f0f8ff;}#sk-container-id-2 input.sk-toggleable__control:checked~div.sk-toggleable__content {max-height: 200px;max-width: 100%;overflow: auto;}#sk-container-id-2 input.sk-toggleable__control:checked~label.sk-toggleable__label-arrow:before {content: \"▾\";}#sk-container-id-2 div.sk-estimator input.sk-toggleable__control:checked~label.sk-toggleable__label {background-color: #d4ebff;}#sk-container-id-2 div.sk-label input.sk-toggleable__control:checked~label.sk-toggleable__label {background-color: #d4ebff;}#sk-container-id-2 input.sk-hidden--visually {border: 0;clip: rect(1px 1px 1px 1px);clip: rect(1px, 1px, 1px, 1px);height: 1px;margin: -1px;overflow: hidden;padding: 0;position: absolute;width: 1px;}#sk-container-id-2 div.sk-estimator {font-family: monospace;background-color: #f0f8ff;border: 1px dotted black;border-radius: 0.25em;box-sizing: border-box;margin-bottom: 0.5em;}#sk-container-id-2 div.sk-estimator:hover {background-color: #d4ebff;}#sk-container-id-2 div.sk-parallel-item::after {content: \"\";width: 100%;border-bottom: 1px solid gray;flex-grow: 1;}#sk-container-id-2 div.sk-label:hover label.sk-toggleable__label {background-color: #d4ebff;}#sk-container-id-2 div.sk-serial::before {content: \"\";position: absolute;border-left: 1px solid gray;box-sizing: border-box;top: 0;bottom: 0;left: 50%;z-index: 0;}#sk-container-id-2 div.sk-serial {display: flex;flex-direction: column;align-items: center;background-color: white;padding-right: 0.2em;padding-left: 0.2em;position: relative;}#sk-container-id-2 div.sk-item {position: relative;z-index: 1;}#sk-container-id-2 div.sk-parallel {display: flex;align-items: stretch;justify-content: center;background-color: white;position: relative;}#sk-container-id-2 div.sk-item::before, #sk-container-id-2 div.sk-parallel-item::before {content: \"\";position: absolute;border-left: 1px solid gray;box-sizing: border-box;top: 0;bottom: 0;left: 50%;z-index: -1;}#sk-container-id-2 div.sk-parallel-item {display: flex;flex-direction: column;z-index: 1;position: relative;background-color: white;}#sk-container-id-2 div.sk-parallel-item:first-child::after {align-self: flex-end;width: 50%;}#sk-container-id-2 div.sk-parallel-item:last-child::after {align-self: flex-start;width: 50%;}#sk-container-id-2 div.sk-parallel-item:only-child::after {width: 0;}#sk-container-id-2 div.sk-dashed-wrapped {border: 1px dashed gray;margin: 0 0.4em 0.5em 0.4em;box-sizing: border-box;padding-bottom: 0.4em;background-color: white;}#sk-container-id-2 div.sk-label label {font-family: monospace;font-weight: bold;display: inline-block;line-height: 1.2em;}#sk-container-id-2 div.sk-label-container {text-align: center;}#sk-container-id-2 div.sk-container {/* jupyter's `normalize.less` sets `[hidden] { display: none; }` but bootstrap.min.css set `[hidden] { display: none !important; }` so we also need the `!important` here to be able to override the default hidden behavior on the sphinx rendered scikit-learn.org. See: https://github.com/scikit-learn/scikit-learn/issues/21755 */display: inline-block !important;position: relative;}#sk-container-id-2 div.sk-text-repr-fallback {display: none;}</style><div id=\"sk-container-id-2\" class=\"sk-top-container\"><div class=\"sk-text-repr-fallback\"><pre>VotingClassifier(estimators=[(&#x27;xgb&#x27;,\n",
              "                              XGBClassifier(base_score=None, booster=None,\n",
              "                                            callbacks=None,\n",
              "                                            colsample_bylevel=None,\n",
              "                                            colsample_bynode=None,\n",
              "                                            colsample_bytree=0.8, device=None,\n",
              "                                            early_stopping_rounds=None,\n",
              "                                            enable_categorical=False,\n",
              "                                            eval_metric=None,\n",
              "                                            feature_types=None, gamma=0,\n",
              "                                            grow_policy=None,\n",
              "                                            importance_type=None,\n",
              "                                            interaction_constraints=None,\n",
              "                                            learning_rate=0.1, max_bin=None,\n",
              "                                            max_cat_threshold=None,\n",
              "                                            max_cat_to_onehot=None,\n",
              "                                            max_delta_step=None, max_depth=3,\n",
              "                                            max_leaves=None, min_child_weight=1,\n",
              "                                            missing=nan,\n",
              "                                            monotone_constraints=None,\n",
              "                                            multi_strategy=None,\n",
              "                                            n_estimators=100, n_jobs=None,\n",
              "                                            num_parallel_tree=None,\n",
              "                                            random_state=None, ...)),\n",
              "                             (&#x27;gb&#x27;, GradientBoostingClassifier())],\n",
              "                 voting=&#x27;soft&#x27;)</pre><b>In a Jupyter environment, please rerun this cell to show the HTML representation or trust the notebook. <br />On GitHub, the HTML representation is unable to render, please try loading this page with nbviewer.org.</b></div><div class=\"sk-container\" hidden><div class=\"sk-item sk-dashed-wrapped\"><div class=\"sk-label-container\"><div class=\"sk-label sk-toggleable\"><input class=\"sk-toggleable__control sk-hidden--visually\" id=\"sk-estimator-id-4\" type=\"checkbox\" ><label for=\"sk-estimator-id-4\" class=\"sk-toggleable__label sk-toggleable__label-arrow\">VotingClassifier</label><div class=\"sk-toggleable__content\"><pre>VotingClassifier(estimators=[(&#x27;xgb&#x27;,\n",
              "                              XGBClassifier(base_score=None, booster=None,\n",
              "                                            callbacks=None,\n",
              "                                            colsample_bylevel=None,\n",
              "                                            colsample_bynode=None,\n",
              "                                            colsample_bytree=0.8, device=None,\n",
              "                                            early_stopping_rounds=None,\n",
              "                                            enable_categorical=False,\n",
              "                                            eval_metric=None,\n",
              "                                            feature_types=None, gamma=0,\n",
              "                                            grow_policy=None,\n",
              "                                            importance_type=None,\n",
              "                                            interaction_constraints=None,\n",
              "                                            learning_rate=0.1, max_bin=None,\n",
              "                                            max_cat_threshold=None,\n",
              "                                            max_cat_to_onehot=None,\n",
              "                                            max_delta_step=None, max_depth=3,\n",
              "                                            max_leaves=None, min_child_weight=1,\n",
              "                                            missing=nan,\n",
              "                                            monotone_constraints=None,\n",
              "                                            multi_strategy=None,\n",
              "                                            n_estimators=100, n_jobs=None,\n",
              "                                            num_parallel_tree=None,\n",
              "                                            random_state=None, ...)),\n",
              "                             (&#x27;gb&#x27;, GradientBoostingClassifier())],\n",
              "                 voting=&#x27;soft&#x27;)</pre></div></div></div><div class=\"sk-parallel\"><div class=\"sk-parallel-item\"><div class=\"sk-item\"><div class=\"sk-label-container\"><div class=\"sk-label sk-toggleable\"><label>xgb</label></div></div><div class=\"sk-serial\"><div class=\"sk-item\"><div class=\"sk-estimator sk-toggleable\"><input class=\"sk-toggleable__control sk-hidden--visually\" id=\"sk-estimator-id-5\" type=\"checkbox\" ><label for=\"sk-estimator-id-5\" class=\"sk-toggleable__label sk-toggleable__label-arrow\">XGBClassifier</label><div class=\"sk-toggleable__content\"><pre>XGBClassifier(base_score=None, booster=None, callbacks=None,\n",
              "              colsample_bylevel=None, colsample_bynode=None,\n",
              "              colsample_bytree=0.8, device=None, early_stopping_rounds=None,\n",
              "              enable_categorical=False, eval_metric=None, feature_types=None,\n",
              "              gamma=0, grow_policy=None, importance_type=None,\n",
              "              interaction_constraints=None, learning_rate=0.1, max_bin=None,\n",
              "              max_cat_threshold=None, max_cat_to_onehot=None,\n",
              "              max_delta_step=None, max_depth=3, max_leaves=None,\n",
              "              min_child_weight=1, missing=nan, monotone_constraints=None,\n",
              "              multi_strategy=None, n_estimators=100, n_jobs=None,\n",
              "              num_parallel_tree=None, random_state=None, ...)</pre></div></div></div></div></div></div><div class=\"sk-parallel-item\"><div class=\"sk-item\"><div class=\"sk-label-container\"><div class=\"sk-label sk-toggleable\"><label>gb</label></div></div><div class=\"sk-serial\"><div class=\"sk-item\"><div class=\"sk-estimator sk-toggleable\"><input class=\"sk-toggleable__control sk-hidden--visually\" id=\"sk-estimator-id-6\" type=\"checkbox\" ><label for=\"sk-estimator-id-6\" class=\"sk-toggleable__label sk-toggleable__label-arrow\">GradientBoostingClassifier</label><div class=\"sk-toggleable__content\"><pre>GradientBoostingClassifier()</pre></div></div></div></div></div></div></div></div></div></div>"
            ]
          },
          "metadata": {},
          "execution_count": 27
        }
      ]
    },
    {
      "cell_type": "code",
      "source": [
        "from sklearn.metrics import roc_curve, auc\n",
        "\n",
        "y_prob = voting_classifier.predict_proba(X_test)[:, 1]\n",
        "fpr, tpr, thresholds = roc_curve(y_test, y_prob)\n",
        "roc_auc = auc(fpr, tpr)\n",
        "\n",
        "plt.figure()\n",
        "plt.plot(fpr, tpr, color='darkorange', lw=2, label='ROC curve (area = %0.2f)' % roc_auc)\n",
        "plt.plot([0, 1], [0, 1], color='navy', lw=2, linestyle='--')\n",
        "plt.xlabel('False Positive Rate')\n",
        "plt.ylabel('True Positive Rate')\n",
        "plt.legend(loc=\"lower right\")\n",
        "plt.tight_layout()  # Adjust layout to prevent clipping of labels\n",
        "plt.savefig('roc_XGB_GB.eps', format='eps')\n",
        "plt.show()"
      ],
      "metadata": {
        "id": "fqjBtfjXquHg",
        "colab": {
          "base_uri": "https://localhost:8080/",
          "height": 491
        },
        "outputId": "8234671e-c84c-4694-d5ee-a4e2e3cbaa88"
      },
      "execution_count": 28,
      "outputs": [
        {
          "output_type": "stream",
          "name": "stderr",
          "text": [
            "WARNING:matplotlib.backends.backend_ps:The PostScript backend does not support transparency; partially transparent artists will be rendered opaque.\n"
          ]
        },
        {
          "output_type": "display_data",
          "data": {
            "text/plain": [
              "<Figure size 640x480 with 1 Axes>"
            ],
            "image/png": "[encoded data removed]"
          },
          "metadata": {}
        }
      ]
    },
    {
      "cell_type": "markdown",
      "source": [],
      "metadata": {
        "id": "6XxVoZ7prgP4"
      }
    },
    {
      "cell_type": "code",
      "source": [
        "from sklearn.metrics import confusion_matrix, accuracy_score, precision_score, recall_score, f1_score\n",
        "\n",
        "y_pred = voting_classifier.predict(X_test)\n",
        "conf_matrix = confusion_matrix(y_test, y_pred)\n",
        "accuracy = accuracy_score(y_test, y_pred)\n",
        "precision = precision_score(y_test, y_pred)\n",
        "recall = recall_score(y_test, y_pred)\n",
        "f1 = f1_score(y_test, y_pred)\n",
        "\n",
        "print(\"Confusion Matrix:\\n\", conf_matrix)\n",
        "print(\"Accuracy:\", accuracy)\n",
        "print(\"Precision:\", precision)\n",
        "print(\"Recall:\", recall)\n",
        "print(\"F1-score:\", f1)"
      ],
      "metadata": {
        "id": "LDkyPjuzq1BX",
        "colab": {
          "base_uri": "https://localhost:8080/"
        },
        "outputId": "dee11c65-f194-4d89-efcb-4db2f79877f3"
      },
      "execution_count": 29,
      "outputs": [
        {
          "output_type": "stream",
          "name": "stdout",
          "text": [
            "Confusion Matrix:\n",
            " [[81 28]\n",
            " [ 9 82]]\n",
            "Accuracy: 0.815\n",
            "Precision: 0.7454545454545455\n",
            "Recall: 0.9010989010989011\n",
            "F1-score: 0.8159203980099503\n"
          ]
        }
      ]
    },
    {
      "cell_type": "code",
      "source": [
        "import seaborn as sns\n",
        "import matplotlib.pyplot as plt\n",
        "\n",
        "plt.figure(figsize=(6, 6))\n",
        "# sns.set_context('paper', font_scale=2.2)\n",
        "sns.heatmap(conf_matrix, annot=True, cmap='YlGnBu', fmt='g',\n",
        "            xticklabels=['ASD', 'TD'],\n",
        "            yticklabels=['ASD', 'TD'],\n",
        "            cbar=False)  # Remove the color bar\n",
        "plt.xlabel('Predicted label')\n",
        "plt.ylabel('True label')\n",
        "plt.tight_layout()\n",
        "plt.savefig('conf_XGB_GB.eps', format='eps')\n",
        "plt.show()"
      ],
      "metadata": {
        "id": "nyLuWodRtaD_",
        "colab": {
          "base_uri": "https://localhost:8080/",
          "height": 573
        },
        "outputId": "35a880fd-103c-4d86-b4ae-f58931f356f9"
      },
      "execution_count": 30,
      "outputs": [
        {
          "output_type": "display_data",
          "data": {
            "text/plain": [
              "<Figure size 600x600 with 1 Axes>"
            ],
            "image/png": "[encoded data removed]"
          },
          "metadata": {}
        }
      ]
    },
    {
      "cell_type": "code",
      "source": [
        "from sklearn.metrics import mean_squared_error\n",
        "\n",
        "y_pred_regression = voting_classifier.predict(X_test)\n",
        "mse = mean_squared_error(y_test, y_pred_regression)\n",
        "print(\"Mean Squared Error:\", mse)"
      ],
      "metadata": {
        "id": "p549pmuEq4c5",
        "colab": {
          "base_uri": "https://localhost:8080/"
        },
        "outputId": "3abba6d4-499d-4378-df15-6c00bec84307"
      },
      "execution_count": 31,
      "outputs": [
        {
          "output_type": "stream",
          "name": "stdout",
          "text": [
            "Mean Squared Error: 0.185\n"
          ]
        }
      ]
    },
    {
      "cell_type": "code",
      "source": [
        "from sklearn.metrics import confusion_matrix, accuracy_score, precision_score, recall_score, f1_score\n",
        "from sklearn.metrics import mean_squared_error\n",
        "\n",
        "\"\"\" Time domain features only \"\"\"\n",
        "\n",
        "reshaped_data = augmented_data.reshape(1000, 100, 11)\n",
        "subset1 = reshaped_data[:, :, :6]\n",
        "subset1_reshaped = subset1.reshape(1000, 600)\n",
        "\n",
        "X_train, X_test, y_train, y_test = train_test_split(subset1_reshaped, augmented_labels, test_size=0.2, random_state=42)\n",
        "\n",
        "voting_classifier.fit(X_train, y_train)\n",
        "\n",
        "\n",
        "y_pred = voting_classifier.predict(X_test)\n",
        "conf_matrix = confusion_matrix(y_test, y_pred)\n",
        "accuracy = accuracy_score(y_test, y_pred)\n",
        "precision = precision_score(y_test, y_pred)\n",
        "recall = recall_score(y_test, y_pred)\n",
        "f1 = f1_score(y_test, y_pred)\n",
        "\n",
        "print(\"Confusion Matrix:\\n\", conf_matrix)\n",
        "print(\"Accuracy:\", accuracy)\n",
        "print(\"Precision:\", precision)\n",
        "print(\"Recall:\", recall)\n",
        "print(\"F1-score:\", f1)\n",
        "\n",
        "y_pred_regression = voting_classifier.predict(X_test)\n",
        "mse = mean_squared_error(y_test, y_pred_regression)\n",
        "print(\"Mean Squared Error:\", mse)"
      ],
      "metadata": {
        "id": "MZHILq4qjpv2",
        "colab": {
          "base_uri": "https://localhost:8080/"
        },
        "outputId": "981e35d1-1286-41e4-9d0f-5c43d27066a2"
      },
      "execution_count": 32,
      "outputs": [
        {
          "output_type": "stream",
          "name": "stdout",
          "text": [
            "Confusion Matrix:\n",
            " [[82 27]\n",
            " [ 5 86]]\n",
            "Accuracy: 0.84\n",
            "Precision: 0.7610619469026548\n",
            "Recall: 0.945054945054945\n",
            "F1-score: 0.8431372549019607\n",
            "Mean Squared Error: 0.16\n"
          ]
        }
      ]
    },
    {
      "cell_type": "code",
      "source": [
        "\"\"\" Frequency domain features only \"\"\"\n",
        "\n",
        "reshaped_data = augmented_data.reshape(1000, 100, 11)\n",
        "subset1 = reshaped_data[:, :, 6:11]\n",
        "subset1_reshaped = subset1.reshape(1000, 500)\n",
        "\n",
        "X_train, X_test, y_train, y_test = train_test_split(subset1_reshaped, augmented_labels, test_size=0.2, random_state=42)\n",
        "\n",
        "voting_classifier.fit(X_train, y_train)\n",
        "\n",
        "\n",
        "y_pred = voting_classifier.predict(X_test)\n",
        "conf_matrix = confusion_matrix(y_test, y_pred)\n",
        "accuracy = accuracy_score(y_test, y_pred)\n",
        "precision = precision_score(y_test, y_pred)\n",
        "recall = recall_score(y_test, y_pred)\n",
        "f1 = f1_score(y_test, y_pred)\n",
        "\n",
        "print(\"Confusion Matrix:\\n\", conf_matrix)\n",
        "print(\"Accuracy:\", accuracy)\n",
        "print(\"Precision:\", precision)\n",
        "print(\"Recall:\", recall)\n",
        "print(\"F1-score:\", f1)\n",
        "\n",
        "y_pred_regression = voting_classifier.predict(X_test)\n",
        "mse = mean_squared_error(y_test, y_pred_regression)\n",
        "print(\"Mean Squared Error:\", mse)"
      ],
      "metadata": {
        "id": "9lCl5Sw8jsxe",
        "colab": {
          "base_uri": "https://localhost:8080/"
        },
        "outputId": "69b39706-cc73-4841-daaf-dea523d11769"
      },
      "execution_count": 33,
      "outputs": [
        {
          "output_type": "stream",
          "name": "stdout",
          "text": [
            "Confusion Matrix:\n",
            " [[70 39]\n",
            " [50 41]]\n",
            "Accuracy: 0.555\n",
            "Precision: 0.5125\n",
            "Recall: 0.45054945054945056\n",
            "F1-score: 0.4795321637426901\n",
            "Mean Squared Error: 0.445\n"
          ]
        }
      ]
    }
  ]
}