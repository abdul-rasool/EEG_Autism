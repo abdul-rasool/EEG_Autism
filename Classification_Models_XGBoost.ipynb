{
  "nbformat": 4,
  "nbformat_minor": 0,
  "metadata": {
    "colab": {
      "provenance": []
    },
    "kernelspec": {
      "name": "python3",
      "display_name": "Python 3"
    },
    "language_info": {
      "name": "python"
    }
  },
  "cells": [
    {
      "cell_type": "code",
      "source": [
        "import os\n",
        "import pandas as pd\n",
        "import numpy as np\n",
        "from xgboost import XGBClassifier"
      ],
      "metadata": {
        "id": "ukdDgEGyl-k-"
      },
      "execution_count": null,
      "outputs": []
    },
    {
      "cell_type": "code",
      "execution_count": null,
      "metadata": {
        "colab": {
          "base_uri": "https://localhost:8080/"
        },
        "id": "MI33WFHeknCp",
        "outputId": "f3f9eb10-679d-4684-b184-80fe782fd4da"
      },
      "outputs": [
        {
          "output_type": "stream",
          "name": "stdout",
          "text": [
            "Mounted at /content/drive\n"
          ]
        }
      ],
      "source": [
        "\"\"\"Mounting Google Drive\"\"\"\n",
        "from google.colab import drive\n",
        "drive.mount('/content/drive', force_remount = True)"
      ]
    },
    {
      "cell_type": "code",
      "source": [
        "np.random.seed(42)"
      ],
      "metadata": {
        "id": "NVzb2AX3t2tJ"
      },
      "execution_count": null,
      "outputs": []
    },
    {
      "cell_type": "code",
      "source": [
        "def add_noise(df, noise_level=0.25):\n",
        "    noisy_df = df.copy()\n",
        "    for column in df.select_dtypes(include=[np.number]).columns:\n",
        "        noise = np.random.normal(0, noise_level * df[column].std(), df[column].shape)\n",
        "        noisy_df[column] += noise\n",
        "    return noisy_df"
      ],
      "metadata": {
        "id": "h_W6_0IwtljF"
      },
      "execution_count": null,
      "outputs": []
    },
    {
      "cell_type": "code",
      "source": [
        "folder_path = \"/content/drive/MyDrive/Features ASD_TD/\"\n",
        "\n",
        "# Initialize an empty list to store the combined data and labels\n",
        "data_list = []\n",
        "labels = []\n",
        "# Iterate through the ASD and TD folders\n",
        "for label, folder_name in enumerate([\"ASD\", \"TD\"]):\n",
        "    folder_dir = os.path.join(folder_path, folder_name)\n",
        "\n",
        "    # Iterate through files in each folder\n",
        "    for file_name in os.listdir(folder_dir):\n",
        "        if file_name.endswith(\".xlsx\"):\n",
        "            file_path = os.path.join(folder_dir, file_name)\n",
        "            # Check if the corresponding bands file exists\n",
        "            bands_file_path = os.path.join(folder_dir, file_name.split('.')[0] + \"_bands.xlsx\")\n",
        "            if os.path.exists(bands_file_path):\n",
        "                # Read both excel files\n",
        "                df_main = pd.read_excel(file_path)\n",
        "                df_bands = pd.read_excel(bands_file_path)\n",
        "                # Combine along columns\n",
        "                combined_df = pd.concat([df_main, df_bands], axis=1)\n",
        "                combined_df = add_noise(combined_df)\n",
        "                # Append the combined data and label to the list\n",
        "                data_list.append(combined_df)\n",
        "                labels.append(label)"
      ],
      "metadata": {
        "id": "sHwbG06kl1xE"
      },
      "execution_count": null,
      "outputs": []
    },
    {
      "cell_type": "code",
      "source": [
        "labels = np.array(labels)"
      ],
      "metadata": {
        "id": "x5X2HL7lcpRN"
      },
      "execution_count": null,
      "outputs": []
    },
    {
      "cell_type": "code",
      "source": [
        "data_list = np.array(data_list)"
      ],
      "metadata": {
        "id": "wImmC8wmgEVz"
      },
      "execution_count": null,
      "outputs": []
    },
    {
      "cell_type": "code",
      "source": [
        "\"\"\" Data Augmentation\"\"\"\n",
        "\n",
        "def augment_data(data, labels, target_samples=1000, noise_factor=0.5):\n",
        "    augmented_data = []\n",
        "    augmented_labels = []\n",
        "\n",
        "    while len(augmented_data) < target_samples:\n",
        "        idx = np.random.randint(0, len(data))\n",
        "        original_sample = data[idx]\n",
        "        original_label = labels[idx]\n",
        "\n",
        "        noisy_sample = original_sample + noise_factor * np.random.normal(size=original_sample.shape)\n",
        "\n",
        "        augmented_data.append(noisy_sample)\n",
        "        augmented_labels.append(original_label)\n",
        "\n",
        "    augmented_data = np.array(augmented_data)\n",
        "    augmented_labels = np.array(augmented_labels)\n",
        "\n",
        "    return augmented_data, augmented_labels\n",
        "\n",
        "augmented_data, augmented_labels = augment_data(data_list, labels, target_samples=1000, noise_factor=5)"
      ],
      "metadata": {
        "id": "1x9ccLGFou7K"
      },
      "execution_count": null,
      "outputs": []
    },
    {
      "cell_type": "code",
      "source": [
        "from sklearn.preprocessing import StandardScaler\n",
        "\n",
        "data_2d = np.asarray(data_list).reshape(-1, np.asarray(data_list).shape[-1])\n",
        "\n",
        "scaler = StandardScaler()\n",
        "scaled_data_2d = scaler.fit_transform(data_2d)\n",
        "data = scaled_data_2d.reshape(np.asarray(data_list).shape)"
      ],
      "metadata": {
        "id": "kmFAVLdHnZ4A"
      },
      "execution_count": null,
      "outputs": []
    },
    {
      "cell_type": "code",
      "source": [
        "\"\"\" XGBoost Classifier \"\"\"\n",
        "\n",
        "xgb_classifier = XGBClassifier(\n",
        "    n_estimators=100,\n",
        "    max_depth=3,\n",
        "    learning_rate=0.1,\n",
        "    min_child_weight=1,  # Regularization parameter\n",
        "    gamma=0,  # Regularization parameter\n",
        "    subsample=0.8,  # Regularization parameter\n",
        "    colsample_bytree=0.8  # Regularization parameter\n",
        ")"
      ],
      "metadata": {
        "id": "FKE7SX_OpN_e"
      },
      "execution_count": null,
      "outputs": []
    },
    {
      "cell_type": "code",
      "source": [
        "from sklearn.model_selection import KFold\n",
        "from sklearn.metrics import accuracy_score, precision_score, recall_score, f1_score, confusion_matrix\n",
        "\n",
        "\n",
        "\n",
        "kf = KFold(n_splits=5, shuffle=True, random_state=42)\n",
        "\n",
        "accuracies = []\n",
        "all_y_true = []\n",
        "all_y_pred = []\n",
        "\n",
        "# Perform K-Fold CV\n",
        "for train_index, test_index in kf.split(data):\n",
        "\n",
        "    X_train, X_test = data[train_index], data[test_index]\n",
        "    y_train, y_test = labels[train_index], labels[test_index]\n",
        "\n",
        "    X_train = X_train.reshape(X_train.shape[0], -1)\n",
        "    X_test = X_test.reshape(X_test.shape[0], -1)\n",
        "\n",
        "    # Fit the model\n",
        "    xgb_classifier.fit(X_train, y_train)\n",
        "\n",
        "    # Predict and evaluate\n",
        "    y_pred = xgb_classifier.predict(X_test)\n",
        "    accuracy = accuracy_score(y_test, y_pred)\n",
        "    precision = precision_score(y_test, y_pred)\n",
        "    recall = recall_score(y_test, y_pred)\n",
        "    f1 = f1_score(y_test, y_pred)\n",
        "\n",
        "    accuracies.append(accuracy)\n",
        "    all_y_true.extend(y_test)\n",
        "    all_y_pred.extend(y_pred)\n",
        "\n",
        "mean_accuracy = np.mean(accuracies)\n",
        "\n",
        "print(f\"Mean Accuracy: {mean_accuracy:.2f}\")\n",
        "\n",
        "conf_matrix = confusion_matrix(all_y_true, all_y_pred)\n",
        "conf_matrix_df = pd.DataFrame(conf_matrix, index=['TD', 'ASD'], columns=['TD', 'ASD'])\n",
        "\n",
        "import matplotlib.pyplot as plt\n",
        "import seaborn as sns\n",
        "\n",
        "\n",
        "plt.figure(figsize=(6, 6))\n",
        "sns.set_context('paper', font_scale=2.2)\n",
        "sns.heatmap(conf_matrix_df, annot=True, cmap='YlGnBu', fmt='g',\n",
        "            xticklabels=['ASD', 'TD'],\n",
        "            yticklabels=['ASD', 'TD'],\n",
        "            cbar=False)  # Remove the color bar\n",
        "plt.xlabel('Predicted label')\n",
        "plt.ylabel('True label')\n",
        "plt.tight_layout()\n",
        "plt.savefig('conf_XGB_New.eps', format='eps')\n",
        "plt.show()"
      ],
      "metadata": {
        "colab": {
          "base_uri": "https://localhost:8080/",
          "height": 591
        },
        "id": "MoAI4H7fUp_h",
        "outputId": "a923823c-14c2-4401-d58a-14d1a1170fe8"
      },
      "execution_count": null,
      "outputs": [
        {
          "output_type": "stream",
          "name": "stdout",
          "text": [
            "Mean Accuracy: 0.75\n"
          ]
        },
        {
          "output_type": "display_data",
          "data": {
            "text/plain": [
              "<Figure size 600x600 with 1 Axes>"
            ],
            "image/png": "[encoded data removed]"
          },
          "metadata": {}
        }
      ]
    },
    {
      "cell_type": "code",
      "source": [
        "print('Mean of Accuracies is: ', np.mean(accuracies))\n",
        "print('SD of Accuracies is: ', np.std(accuracies))"
      ],
      "metadata": {
        "colab": {
          "base_uri": "https://localhost:8080/"
        },
        "id": "UTNSBrAquXIK",
        "outputId": "b1a01e84-adc1-4903-b624-23acda892602"
      },
      "execution_count": null,
      "outputs": [
        {
          "output_type": "stream",
          "name": "stdout",
          "text": [
            "Mean of Accuracies is:  0.7533333333333333\n",
            "SD of Accuracies is:  0.10022197585581942\n"
          ]
        }
      ]
    },
    {
      "cell_type": "code",
      "source": [
        "from sklearn.metrics import roc_curve, auc\n",
        "\n",
        "fpr, tpr, _ = roc_curve(all_y_true, all_y_pred)\n",
        "roc_auc = auc(fpr, tpr)\n",
        "\n",
        "# Plot ROC curve\n",
        "plt.figure()\n",
        "plt.plot(fpr, tpr, color='darkorange', lw=2, label=f'ROC curve (area = {roc_auc:.2f})')\n",
        "plt.plot([0, 1], [0, 1], color='navy', lw=2, linestyle='--')\n",
        "plt.xlim([0.0, 1.0])\n",
        "plt.ylim([0.0, 1.05])\n",
        "plt.xlabel('False Positive Rate')\n",
        "plt.ylabel('True Positive Rate')\n",
        "plt.legend(loc=\"lower right\")\n",
        "plt.tight_layout()\n",
        "plt.savefig('roc_curve_XGB_New.eps', format='eps')\n",
        "plt.show()"
      ],
      "metadata": {
        "colab": {
          "base_uri": "https://localhost:8080/",
          "height": 491
        },
        "id": "0fr7gVrYw64q",
        "outputId": "946e2ce9-46e0-4d03-d46d-8ffb8bea445c"
      },
      "execution_count": null,
      "outputs": [
        {
          "output_type": "stream",
          "name": "stderr",
          "text": [
            "WARNING:matplotlib.backends.backend_ps:The PostScript backend does not support transparency; partially transparent artists will be rendered opaque.\n"
          ]
        },
        {
          "output_type": "display_data",
          "data": {
            "text/plain": [
              "<Figure size 640x480 with 1 Axes>"
            ],
            "image/png": "[encoded data removed]"
          },
          "metadata": {}
        }
      ]
    },
    {
      "cell_type": "code",
      "source": [
        "# import seaborn as sns\n",
        "# import matplotlib.pyplot as plt\n",
        "\n",
        "# plt.figure(figsize=(6, 6))\n",
        "# sns.set_context('paper', font_scale=2.2)\n",
        "# sns.heatmap(conf_matrix_df, annot=True, cmap='YlGnBu', fmt='g',\n",
        "#             xticklabels=['ASD', 'TD'],\n",
        "#             yticklabels=['ASD', 'TD'],\n",
        "#             cbar=False)  # Remove the color bar\n",
        "# plt.xlabel('Predicted label')\n",
        "# plt.ylabel('True label')\n",
        "# plt.tight_layout()\n",
        "# plt.savefig('conf_XGB.eps', format='eps')\n",
        "# plt.show()"
      ],
      "metadata": {
        "id": "nyLuWodRtaD_"
      },
      "execution_count": null,
      "outputs": []
    },
    {
      "cell_type": "code",
      "source": [
        "\"\"\" Time Domain Features\"\"\"\n",
        "\n",
        "\n",
        "kf = KFold(n_splits=5, shuffle=True, random_state=42)\n",
        "\n",
        "accuracies = []\n",
        "all_y_true = []\n",
        "all_y_pred = []\n",
        "\n",
        "# Perform K-Fold CV\n",
        "for train_index, test_index in kf.split(data):\n",
        "\n",
        "    X_train, X_test = data[train_index, 0:6], data[test_index, 0:6]\n",
        "    y_train, y_test = labels[train_index], labels[test_index]\n",
        "\n",
        "    X_train = X_train.reshape(X_train.shape[0], -1)\n",
        "    X_test = X_test.reshape(X_test.shape[0], -1)\n",
        "\n",
        "    # Fit the model\n",
        "    xgb_classifier.fit(X_train, y_train)\n",
        "\n",
        "    # Predict and evaluate\n",
        "    y_pred = xgb_classifier.predict(X_test)\n",
        "    accuracy = accuracy_score(y_test, y_pred)\n",
        "    precision = precision_score(y_test, y_pred)\n",
        "    recall = recall_score(y_test, y_pred)\n",
        "    f1 = f1_score(y_test, y_pred)\n",
        "\n",
        "    accuracies.append(accuracy)\n",
        "    all_y_true.extend(y_test)\n",
        "    all_y_pred.extend(y_pred)\n",
        "\n",
        "mean_accuracy = np.mean(accuracies)\n",
        "\n",
        "print(f\"Mean Accuracy: {mean_accuracy:.2f}\")\n",
        "\n",
        "conf_matrix = confusion_matrix(all_y_true, all_y_pred)\n",
        "conf_matrix_df = pd.DataFrame(conf_matrix, index=['TD', 'ASD'], columns=['TD', 'ASD'])\n",
        "\n",
        "print('Mean of Accuracies for Time Domain is: ', np.mean(accuracies))\n",
        "print('SD of Accuracies for Frequency Domain is: ', np.std(accuracies))"
      ],
      "metadata": {
        "colab": {
          "base_uri": "https://localhost:8080/"
        },
        "id": "3aDQbFKi7HfL",
        "outputId": "f0662f6d-a79e-4016-a35d-4ca21d60dfdf"
      },
      "execution_count": null,
      "outputs": [
        {
          "output_type": "stream",
          "name": "stdout",
          "text": [
            "Mean Accuracy: 0.80\n",
            "Mean of Accuracies for Time Domain is:  0.8\n",
            "SD of Accuracies for Frequency Domain is:  0.30550504633038933\n"
          ]
        },
        {
          "output_type": "stream",
          "name": "stderr",
          "text": [
            "/usr/local/lib/python3.10/dist-packages/sklearn/metrics/_classification.py:1471: UndefinedMetricWarning: Recall is ill-defined and being set to 0.0 due to no true samples. Use `zero_division` parameter to control this behavior.\n",
            "  _warn_prf(average, modifier, msg_start, len(result))\n"
          ]
        }
      ]
    },
    {
      "cell_type": "code",
      "source": [
        "\"\"\" Freuqency Domain Features\"\"\"\n",
        "\n",
        "\n",
        "kf = KFold(n_splits=5, shuffle=True, random_state=42)\n",
        "\n",
        "accuracies = []\n",
        "all_y_true = []\n",
        "all_y_pred = []\n",
        "\n",
        "# Perform K-Fold CV\n",
        "for train_index, test_index in kf.split(data):\n",
        "\n",
        "    X_train, X_test = data[train_index, 6:], data[test_index, 6:]\n",
        "    y_train, y_test = labels[train_index], labels[test_index]\n",
        "\n",
        "    X_train = X_train.reshape(X_train.shape[0], -1)\n",
        "    X_test = X_test.reshape(X_test.shape[0], -1)\n",
        "\n",
        "    # Fit the model\n",
        "    xgb_classifier.fit(X_train, y_train)\n",
        "\n",
        "    # Predict and evaluate\n",
        "    y_pred = xgb_classifier.predict(X_test)\n",
        "    accuracy = accuracy_score(y_test, y_pred)\n",
        "    precision = precision_score(y_test, y_pred)\n",
        "    recall = recall_score(y_test, y_pred)\n",
        "    f1 = f1_score(y_test, y_pred)\n",
        "\n",
        "    accuracies.append(accuracy)\n",
        "    all_y_true.extend(y_test)\n",
        "    all_y_pred.extend(y_pred)\n",
        "\n",
        "mean_accuracy = np.mean(accuracies)\n",
        "\n",
        "print(f\"Mean Accuracy: {mean_accuracy:.2f}\")\n",
        "\n",
        "conf_matrix = confusion_matrix(all_y_true, all_y_pred)\n",
        "conf_matrix_df = pd.DataFrame(conf_matrix, index=['TD', 'ASD'], columns=['TD', 'ASD'])\n",
        "\n",
        "print('Mean of Accuracies for Time Domain is: ', np.mean(accuracies))\n",
        "print('SD of Accuracies for Frequency Domain is: ', np.std(accuracies))"
      ],
      "metadata": {
        "colab": {
          "base_uri": "https://localhost:8080/"
        },
        "id": "lKvwgDtG7PSe",
        "outputId": "5ea9a56f-43d0-4a4a-fa98-186ece30a4a2"
      },
      "execution_count": null,
      "outputs": [
        {
          "output_type": "stream",
          "name": "stdout",
          "text": [
            "Mean Accuracy: 0.68\n",
            "Mean of Accuracies for Time Domain is:  0.6833333333333333\n",
            "SD of Accuracies for Frequency Domain is:  0.3531603350069515\n"
          ]
        },
        {
          "output_type": "stream",
          "name": "stderr",
          "text": [
            "/usr/local/lib/python3.10/dist-packages/sklearn/metrics/_classification.py:1471: UndefinedMetricWarning: Recall is ill-defined and being set to 0.0 due to no true samples. Use `zero_division` parameter to control this behavior.\n",
            "  _warn_prf(average, modifier, msg_start, len(result))\n",
            "/usr/local/lib/python3.10/dist-packages/sklearn/metrics/_classification.py:1471: UndefinedMetricWarning: Precision is ill-defined and being set to 0.0 due to no predicted samples. Use `zero_division` parameter to control this behavior.\n",
            "  _warn_prf(average, modifier, msg_start, len(result))\n"
          ]
        }
      ]
    },
    {
      "cell_type": "code",
      "source": [
        "np.shape(X_train)"
      ],
      "metadata": {
        "colab": {
          "base_uri": "https://localhost:8080/"
        },
        "id": "HqxzEQj8BRTT",
        "outputId": "b451b74c-7d0b-4a69-c899-1bff172d4a2b"
      },
      "execution_count": null,
      "outputs": [
        {
          "output_type": "execute_result",
          "data": {
            "text/plain": [
              "(27, 1034)"
            ]
          },
          "metadata": {},
          "execution_count": 17
        }
      ]
    }
  ]
}